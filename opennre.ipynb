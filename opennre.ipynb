{
 "cells": [
  {
   "cell_type": "code",
   "execution_count": 1,
   "id": "5c4fb25d-a3b7-4d2a-a9b7-a51b95f6d25d",
   "metadata": {
    "execution": {
     "iopub.execute_input": "2024-08-12T23:31:43.277856Z",
     "iopub.status.busy": "2024-08-12T23:31:43.277593Z",
     "iopub.status.idle": "2024-08-12T23:31:45.892649Z",
     "shell.execute_reply": "2024-08-12T23:31:45.892286Z",
     "shell.execute_reply.started": "2024-08-12T23:31:43.277835Z"
    }
   },
   "outputs": [
    {
     "name": "stderr",
     "output_type": "stream",
     "text": [
      "2024-08-12 16:31:45,854 - root - INFO - Initializing word embedding with word2vec.\n"
     ]
    }
   ],
   "source": [
    "import itertools\n",
    "import typing\n",
    "\n",
    "from icecream import ic\n",
    "import opennre\n",
    "import spacy\n",
    "\n",
    "OPENNRE_MODEL: str = \"wiki80_cnn_softmax\"\n",
    "\n",
    "SPACY_MODEL: str = \"en_core_web_md\"\n",
    "\n",
    "nlp: spacy.Language = spacy.load(SPACY_MODEL)\n",
    "nre: opennre.model.softmax_nn.SoftmaxNN = opennre.get_model(OPENNRE_MODEL)"
   ]
  },
  {
   "cell_type": "code",
   "execution_count": 2,
   "id": "762353b9-57cb-4e57-b7e7-1894e6f32852",
   "metadata": {
    "execution": {
     "iopub.execute_input": "2024-08-12T23:31:45.893161Z",
     "iopub.status.busy": "2024-08-12T23:31:45.893039Z",
     "iopub.status.idle": "2024-08-12T23:31:45.895279Z",
     "shell.execute_reply": "2024-08-12T23:31:45.895009Z",
     "shell.execute_reply.started": "2024-08-12T23:31:45.893154Z"
    }
   },
   "outputs": [],
   "source": [
    "text: str = \"\"\"\n",
    "Eating processed red meat could be a significant risk factor for dementia, according to a large study that tracked more than 100,000 people over four decades.\n",
    "Processed red meat has previously been shown to increase the risk of cancer, heart disease and type 2 diabetes. Now US researchers say they have uncovered a potential link to dementia.\n",
    "The study also found that replacing processed red meat with healthier foods such as nuts, beans or tofu could help reduce the risk of dementia. The findings were presented at the Alzheimer’s Association international conference in the US.\n",
    "The number of people living with dementia globally is forecast to nearly triple to 153 million by 2050, and studies looking at diet and risk of cognitive decline has become a focus of researchers.\n",
    "\n",
    "In the latest research, experts studied the health of 130,000 nurses and other health workers working in the US. They were tracked for 43 years and provided data on their diet every 2 to 5 years.\n",
    "The participants were asked how often they ate processed red meat including bacon, hotdogs, sausages, salami and other sandwich meat.\n",
    "They were also asked about their consumption of nuts and legumes including peanut butter, peanuts, walnuts and other nuts, string beans, beans, peas, soy milk and tofu.\n",
    "\n",
    "More than 11,000 cases of dementia were identified during the follow-up period.\n",
    "Consuming two servings of processed red meat each week appeared to raise the risk of cognitive decline by 14% compared with those eating about three servings a month, the researchers reported.\n",
    "The study also suggested that replacing one daily serving of processed red meat for a daily serving of nuts, beans or tofu every day could lower the risk of dementia by 23%.\n",
    "    \"\"\".strip()"
   ]
  },
  {
   "cell_type": "code",
   "execution_count": 3,
   "id": "5316dd4a-3301-4a61-87bc-c17eb4b19a7c",
   "metadata": {
    "execution": {
     "iopub.execute_input": "2024-08-12T23:31:45.895639Z",
     "iopub.status.busy": "2024-08-12T23:31:45.895578Z",
     "iopub.status.idle": "2024-08-12T23:31:45.957371Z",
     "shell.execute_reply": "2024-08-12T23:31:45.957008Z",
     "shell.execute_reply.started": "2024-08-12T23:31:45.895633Z"
    }
   },
   "outputs": [],
   "source": [
    "doc: spacy.tokens.doc.Doc = nlp(text)"
   ]
  },
  {
   "cell_type": "code",
   "execution_count": 8,
   "id": "c99010a7-5f19-41aa-b6c5-eabf21713126",
   "metadata": {
    "execution": {
     "iopub.execute_input": "2024-08-12T23:33:18.653123Z",
     "iopub.status.busy": "2024-08-12T23:33:18.652498Z",
     "iopub.status.idle": "2024-08-12T23:33:19.347989Z",
     "shell.execute_reply": "2024-08-12T23:33:19.347661Z",
     "shell.execute_reply.started": "2024-08-12T23:33:18.653070Z"
    },
    "scrolled": true
   },
   "outputs": [
    {
     "name": "stderr",
     "output_type": "stream",
     "text": [
      "ic| sent: Eating processed red meat could be a significant risk factor for dementia, according to a large study that tracked more than 100,000 people over four decades.\n",
      "ic| head: processed red meat\n",
      "    tail: dementia\n",
      "    rel: 'said to be the same as'\n",
      "    prob: 0.7603546977043152\n",
      "ic| head: a significant risk factor\n",
      "    tail: that\n",
      "    rel: 'main subject'\n",
      "    prob: 0.6608046293258667\n",
      "ic| head: a significant risk factor\n",
      "    tail: more than 100,000 people\n",
      "    rel: 'main subject'\n",
      "    prob: 0.5330005884170532\n",
      "ic| head: a large study\n",
      "    tail: that\n",
      "    rel: 'main subject'\n",
      "    prob: 0.5174146294593811\n",
      "ic| sent: Processed red meat has previously been shown to increase the risk of cancer, heart disease and type 2 diabetes.\n",
      "ic| sent: Now US researchers say they have uncovered a potential link to dementia.\n",
      "ic| sent: The study also found that replacing processed red meat with healthier foods such as nuts, beans or tofu could help reduce the risk of dementia.\n",
      "ic| sent: The findings were presented at the Alzheimer’s Association international conference in the US.\n",
      "ic| sent: The number of people living with dementia globally is forecast to nearly triple to 153 million by 2050, and studies looking at diet and risk of cognitive decline has become a focus of researchers.\n",
      "          \n",
      "ic| sent: In the latest research, experts studied the health of 130,000 nurses and other health workers working in the US.\n",
      "ic| sent: They were tracked for 43 years and provided data on their diet every 2 to 5 years.\n",
      "ic| sent: The participants were asked how often they ate processed red meat including bacon, hotdogs, sausages, salami and other sandwich meat.\n",
      "ic| sent: They were also asked about their consumption of nuts and legumes including peanut butter, peanuts, walnuts and other nuts, string beans, beans, peas, soy milk and tofu.\n",
      "          \n",
      "ic| sent: More than 11,000 cases of dementia were identified during the follow-up period.\n",
      "ic| sent: Consuming two servings of processed red meat each week appeared to raise the risk of cognitive decline by 14% compared with those eating about three servings a month, the researchers reported.\n",
      "ic| sent: The study also suggested that replacing one daily serving of processed red meat for a daily serving of nuts, beans or tofu every day could lower the risk of dementia by 23%.\n"
     ]
    }
   ],
   "source": [
    "OPENNRE_MIN_PROB: float = 0.5\n",
    "\n",
    "STOP_RELS: typing.Set[ str ] = set([\n",
    "    \"has part\",\n",
    "])\n",
    "\n",
    "for sent in doc.sents:\n",
    "    ic(sent)\n",
    "    \n",
    "    for head, tail in itertools.combinations(list(sent.noun_chunks), 2): \n",
    "        rel, prob = nre.infer({\n",
    "            \"text\": text,\n",
    "            \"h\": { \"pos\": ( head.start_char, head.end_char) },\n",
    "            \"t\": { \"pos\": ( tail.start_char, tail.end_char) },\n",
    "        })\n",
    "\n",
    "        if prob >= OPENNRE_MIN_PROB and rel not in STOP_RELS:\n",
    "            ic(head, tail, rel, prob)"
   ]
  },
  {
   "cell_type": "code",
   "execution_count": null,
   "id": "fc9056e5-6705-4cc2-9ee9-6999acbe5fff",
   "metadata": {},
   "outputs": [],
   "source": []
  }
 ],
 "metadata": {
  "kernelspec": {
   "display_name": "Python 3 (ipykernel)",
   "language": "python",
   "name": "python3"
  },
  "language_info": {
   "codemirror_mode": {
    "name": "ipython",
    "version": 3
   },
   "file_extension": ".py",
   "mimetype": "text/x-python",
   "name": "python",
   "nbconvert_exporter": "python",
   "pygments_lexer": "ipython3",
   "version": "3.11.9"
  }
 },
 "nbformat": 4,
 "nbformat_minor": 5
}
